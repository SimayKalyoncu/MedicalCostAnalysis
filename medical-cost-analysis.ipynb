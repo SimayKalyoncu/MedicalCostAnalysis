{
  "nbformat": 4,
  "nbformat_minor": 0,
  "metadata": {
    "colab": {
      "provenance": [],
      "authorship_tag": "ABX9TyMQ0WRSXS/Qfe2z9hiMRLub"
    },
    "kernelspec": {
      "name": "python3",
      "display_name": "Python 3"
    },
    "language_info": {
      "name": "python"
    }
  },
  "cells": [
    {
      "cell_type": "markdown",
      "source": [
        "Medical Cost Analysis"
      ],
      "metadata": {
        "id": "b3Ipq7uG_zDa"
      }
    }
  ]
}